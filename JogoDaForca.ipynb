{
  "nbformat": 4,
  "nbformat_minor": 0,
  "metadata": {
    "colab": {
      "provenance": [],
      "authorship_tag": "ABX9TyOC482n3V14qSUDHznaAMfO",
      "include_colab_link": true
    },
    "kernelspec": {
      "name": "python3",
      "display_name": "Python 3"
    },
    "language_info": {
      "name": "python"
    }
  },
  "cells": [
    {
      "cell_type": "markdown",
      "metadata": {
        "id": "view-in-github",
        "colab_type": "text"
      },
      "source": [
        "<a href=\"https://colab.research.google.com/github/VanessaTrajano/JogoDaForca-Python/blob/main/JogoDaForca.ipynb\" target=\"_parent\"><img src=\"https://colab.research.google.com/assets/colab-badge.svg\" alt=\"Open In Colab\"/></a>"
      ]
    },
    {
      "cell_type": "code",
      "execution_count": 1,
      "metadata": {
        "colab": {
          "base_uri": "https://localhost:8080/"
        },
        "id": "uKQtHlfTDv0g",
        "outputId": "98809ab1-4ec7-43e5-d1a2-c9bbcf668c63"
      },
      "outputs": [
        {
          "output_type": "stream",
          "name": "stdout",
          "text": [
            "_ _ _ _ _ _ _ Você tem 7 chances\n",
            "Escolha uma letra para adivinhar: a\n",
            "Suas tentativas:  ['a']\n",
            "_ _ _ _ _ a _ Você tem 7 chances\n",
            "Escolha uma letra para adivinhar: e\n",
            "Suas tentativas:  ['a', 'e']\n",
            "_ e _ _ _ a _ Você tem 7 chances\n",
            "Escolha uma letra para adivinhar: n\n",
            "Suas tentativas:  ['a', 'e', 'n']\n",
            "_ e _ _ _ a _ Você tem 6 chances\n",
            "Escolha uma letra para adivinhar: r\n",
            "Suas tentativas:  ['a', 'e', 'n', 'r']\n",
            "_ e _ _ _ a _ Você tem 5 chances\n",
            "Escolha uma letra para adivinhar: o\n",
            "Suas tentativas:  ['a', 'e', 'n', 'r', 'o']\n",
            "_ e _ _ _ a _ Você tem 4 chances\n",
            "Escolha uma letra para adivinhar: s\n",
            "Suas tentativas:  ['a', 'e', 'n', 'r', 'o', 's']\n",
            "_ e _ _ _ a _ Você tem 3 chances\n",
            "Escolha uma letra para adivinhar: l\n",
            "Suas tentativas:  ['a', 'e', 'n', 'r', 'o', 's', 'l']\n",
            "_ e _ _ _ a l Você tem 3 chances\n",
            "Escolha uma letra para adivinhar: v\n",
            "Suas tentativas:  ['a', 'e', 'n', 'r', 'o', 's', 'l', 'v']\n",
            "_ e _ _ _ a l Você tem 2 chances\n",
            "Escolha uma letra para adivinhar: d\n",
            "Suas tentativas:  ['a', 'e', 'n', 'r', 'o', 's', 'l', 'v', 'd']\n",
            "_ e _ _ _ a l Você tem 1 chances\n",
            "Escolha uma letra para adivinhar: c\n",
            "Suas tentativas:  ['a', 'e', 'n', 'r', 'o', 's', 'l', 'v', 'd', 'c']\n",
            "Você perdeu! A palavra era: textual\n"
          ]
        }
      ],
      "source": [
        "import random\n",
        "\n",
        "palavras = [\"banana\", \"caneta\", \"dezena\", \"farofa\", \"hora\", \"lixo\", \"mamao\", \"noite\", \"pirulito\", \"xicara\", \"azedo\", \"beijo\", \"coleira\", \"duzia\", \"goiaba\", \"humano\", \"jabuti\", \"moeda\", \"novela\", \"oito\", \"roupa\", \"sabao\", \"zero\", \"tucano\", \"xarope\", \"quiabo\", \"barriga\", \"passaro\", \"tesoura\", \"chapeu\", \"rainha\", \"agulha\", \"tartaruga\", \"fosforo\", \"feliz\", \"globo\", \"volante\", \"pincel\", \"livro\", \"flor\", \"cenoura\", \"umbigo\", \"colegio\", \"guerra\", \"creme\", \"vidro\", \"grama\", \"planeta\", \"bloco\", \"clinica\", \"cabeleireiro\", \"advogado\", \"absurdo\", \"desenhar\", \"familia\", \"ontem\", \"jeito\", \"mexer\", \"problema\", \"preguica\", \"faxina\", \"fugir\", \"corrigir\", \"jejum\", \"microbio\", \"atraso\", \"bicicleta\", \"folclore\", \"exemplo\", \"atras\", \"mendigo\", \"mortadela\", \"bege\", \"fogueira\", \"caranguejo\", \"enxergar\", \"sobrancelha\", \"milionario\", \"travesseiro\", \"padrasto\", \"madrasta\", \"higiene\", \"cadarco\", \"cansaco\", \"quiseram\", \"pesquisa\", \"textual\", \"quase\", \"companhia\", \"cerebro\", \"refrigerante\", \"prezado\", \"periquito\", \"asterisco\", \"aptidao\", \"helice\", \"coceira\", \"pressa\", \"explodir\", \"ninguem\"]\n",
        "\n",
        "# Aqui devemos fazer a escolha aleatória de uma palavra da lista\n",
        "palavra = random.choice(palavras)\n",
        "\n",
        "letras_usuario = []\n",
        "chances = 7\n",
        "ganhou = False\n",
        "jogoTerminou = False\n",
        "\n",
        "while not jogoTerminou: # Aqui fica o loop para o jogo rodar várias vezes\n",
        "\n",
        "  # Aqui precisamos de um loop para imprimir como está o progresso do jogador em adivinhar a palavra\n",
        "  for letra in palavra:\n",
        "    # Se a letra da palavra estiver na lista de chutes do usuário, imprimimos a letra\n",
        "    if letra in letras_usuario:\n",
        "      print(letra, end=\" \")\n",
        "    else: # se não, imprimimos um underline\n",
        "      print(\"_\", end=\" \")\n",
        "\n",
        "  # Aqui imprimimos quantas chances tem o usuário\n",
        "  print(\"Você tem {} chances\".format(chances))\n",
        "  # O que usamos para receber a letra do usuário?\n",
        "  tentativa = input(\"Escolha uma letra para adivinhar: \")\n",
        "\n",
        "  # Vamos conferir se o usuário já tentou essa letra.\n",
        "  if tentativa in letras_usuario:\n",
        "    print(\"Você já tentou essa letra!\")\n",
        "\n",
        "  else:# Se não tentou, vamos continuar.\n",
        "\n",
        "    # Precisamos adicionar a tentativa em letra minúscula no fim da lista letras_usuario\n",
        "    letras_usuario.append(tentativa.lower())\n",
        "    # E então imprimir todas as tentativas\n",
        "    print(\"Suas tentativas: \", letras_usuario)\n",
        "\n",
        "    # Aqui, ao invés de conferir se a tentativa está na palavra,\n",
        "    # conferimos se ela não está\n",
        "    if tentativa.lower() not in palavra:\n",
        "        chances -= 1\n",
        "\n",
        "    # Aqui fazemos um loop para passar por todas as letras na palavra\n",
        "    for letra in palavra:\n",
        "      # Temos que conferir se as letras estão na lista do letras_usuario\n",
        "      if letra in letras_usuario:\n",
        "        ganhou = True\n",
        "      else:\n",
        "        ganhou = False\n",
        "        break # porque um break?\n",
        "\n",
        "    # Que operador lógico deve estar aí para parar o loop do jogo inteiro??\n",
        "    if chances == 0 or ganhou:\n",
        "      jogoTerminou = True\n",
        "\n",
        "# Precisamos testar o que para dizer se o usuário ganhou ou não?\n",
        "if ganhou:\n",
        "    print(\"Parabéns, você ganhou. A palavra era: \" + palavra)\n",
        "else:\n",
        "    print(\"Você perdeu! A palavra era: \" + palavra)"
      ]
    }
  ]
}